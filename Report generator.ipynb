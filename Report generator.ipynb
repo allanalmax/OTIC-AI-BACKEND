{
 "cells": [
  {
   "cell_type": "code",
   "execution_count": 3,
   "id": "c88ad4d7",
   "metadata": {},
   "outputs": [
    {
     "name": "stdout",
     "output_type": "stream",
     "text": [
      "Collecting python-docx\n",
      "  Downloading python-docx-0.8.11.tar.gz (5.6 MB)\n",
      "Requirement already satisfied: lxml>=2.3.2 in c:\\users\\hp\\anaconda3\\lib\\site-packages (from python-docx) (4.8.0)\n",
      "Building wheels for collected packages: python-docx\n",
      "  Building wheel for python-docx (setup.py): started\n",
      "  Building wheel for python-docx (setup.py): finished with status 'done'\n",
      "  Created wheel for python-docx: filename=python_docx-0.8.11-py3-none-any.whl size=184507 sha256=c7c0e5fc333930c6df15f855f64d81a5ed13caf4b31021ef583af0d59db397d8\n",
      "  Stored in directory: c:\\users\\hp\\appdata\\local\\pip\\cache\\wheels\\83\\8b\\7c\\09ae60c42c7ba4ed2dddaf2b8b9186cb105255856d6ed3dba5\n",
      "Successfully built python-docx\n",
      "Installing collected packages: python-docx\n",
      "Successfully installed python-docx-0.8.11\n"
     ]
    }
   ],
   "source": [
    "!pip install python-docx"
   ]
  },
  {
   "cell_type": "code",
   "execution_count": 8,
   "id": "fcd442e7",
   "metadata": {},
   "outputs": [
    {
     "name": "stdout",
     "output_type": "stream",
     "text": [
      "Collecting docxtpl\n",
      "  Downloading docxtpl-0.16.7-py2.py3-none-any.whl (28 kB)\n",
      "Requirement already satisfied: lxml in c:\\users\\hp\\anaconda3\\lib\\site-packages (from docxtpl) (4.8.0)\n",
      "Collecting docxcompose\n",
      "  Downloading docxcompose-1.4.0.tar.gz (20 kB)\n",
      "Requirement already satisfied: jinja2 in c:\\users\\hp\\anaconda3\\lib\\site-packages (from docxtpl) (2.11.3)\n",
      "Requirement already satisfied: python-docx in c:\\users\\hp\\anaconda3\\lib\\site-packages (from docxtpl) (0.8.11)\n",
      "Requirement already satisfied: six in c:\\users\\hp\\anaconda3\\lib\\site-packages (from docxtpl) (1.16.0)\n",
      "Requirement already satisfied: setuptools in c:\\users\\hp\\anaconda3\\lib\\site-packages (from docxcompose->docxtpl) (61.2.0)\n",
      "Requirement already satisfied: babel in c:\\users\\hp\\anaconda3\\lib\\site-packages (from docxcompose->docxtpl) (2.9.1)\n",
      "Requirement already satisfied: pytz>=2015.7 in c:\\users\\hp\\anaconda3\\lib\\site-packages (from babel->docxcompose->docxtpl) (2021.3)\n",
      "Requirement already satisfied: MarkupSafe>=0.23 in c:\\users\\hp\\anaconda3\\lib\\site-packages (from jinja2->docxtpl) (2.0.1)\n",
      "Building wheels for collected packages: docxcompose\n",
      "  Building wheel for docxcompose (setup.py): started\n",
      "  Building wheel for docxcompose (setup.py): finished with status 'done'\n",
      "  Created wheel for docxcompose: filename=docxcompose-1.4.0-py3-none-any.whl size=23284 sha256=bd501137593e991032ba3c221d41672028f531874e44e7a5e5a1b83770e22a7d\n",
      "  Stored in directory: c:\\users\\hp\\appdata\\local\\pip\\cache\\wheels\\f9\\22\\4d\\418ab9840b5f20cdd451d9adbc10f29f9c455c86c04f46648d\n",
      "Successfully built docxcompose\n",
      "Installing collected packages: docxcompose, docxtpl\n",
      "Successfully installed docxcompose-1.4.0 docxtpl-0.16.7\n"
     ]
    }
   ],
   "source": [
    "!pip install docxtpl"
   ]
  },
  {
   "cell_type": "code",
   "execution_count": 25,
   "id": "32c2fa21",
   "metadata": {},
   "outputs": [
    {
     "name": "stdout",
     "output_type": "stream",
     "text": [
      "Report generated for Namirembe Carol: report_Namirembe Carol.docx\n",
      "Report generated for Valary Nkibuuka: report_Valary Nkibuuka.docx\n"
     ]
    }
   ],
   "source": [
    "from docxtpl import DocxTemplate\n",
    "import pandas as pd\n",
    "\n",
    "# Read the CSV file into a DataFrame\n",
    "data = pd.read_csv('C:/Users/HP/Book1.csv')\n",
    "\n",
    "# Load the Word template (replace 'template.docx' with your template file)\n",
    "doc = DocxTemplate('C:/Users/HP/report_template.docx')\n",
    "\n",
    "# Iterate through rows and populate the template\n",
    "for index, row in data.iterrows():\n",
    "    Student = row['Student']\n",
    "    Class_Adviser = row['Class Adviser']\n",
    "    Level = row['Level']\n",
    "    Section = row['Section']\n",
    "    Writing = row['Writing']\n",
    "    Reading = row['Reading']\n",
    "    Speaking = row['Speaking']\n",
    "    Language = row['Language']\n",
    "    Numbering = row['Counting/Numbering']\n",
    "    Arts_Crafts = row['Arts_Craft']\n",
    "    Sharing = row['Playing/Sharing']\n",
    "    feedback = row['feedback']\n",
    "    \n",
    "    # Render the template with data\n",
    "    context = {'Student': Student,'Class': Class_Adviser, 'Level': Level, 'Section': Section,'Writing': Writing,\n",
    "               'Reading': Reading,'Speaking': Speaking,'Language': Language,'Counting':Numbering,\n",
    "               'Arts': Arts_Crafts,'Sharing': Sharing,'feedback': feedback}\n",
    "    doc.render(context)\n",
    "    \n",
    "    # Save the populated report to a file\n",
    "    report_filename = f\"report_{Student}.docx\"\n",
    "    doc.save(report_filename)\n",
    "    \n",
    "    print(f\"Report generated for {Student}: {report_filename}\")\n"
   ]
  },
  {
   "cell_type": "code",
   "execution_count": 28,
   "id": "a54a5ddf",
   "metadata": {},
   "outputs": [],
   "source": [
    "import smtplib\n",
    "from email.mime.multipart import MIMEMultipart\n",
    "from email.mime.text import MIMEText\n",
    "from email.mime.application import MIMEApplication"
   ]
  },
  {
   "cell_type": "code",
   "execution_count": 38,
   "id": "399deed1",
   "metadata": {},
   "outputs": [],
   "source": [
    "from docxtpl import DocxTemplate\n",
    "import pandas as pd\n",
    "\n",
    "# Read the CSV file into a DataFrame\n",
    "data = pd.read_csv('C:/Users/HP/Book1.csv')\n",
    "\n",
    "# Load the Word template (replace 'template.docx' with your template file)\n",
    "doc = DocxTemplate('C:/Users/HP/report_template.docx')\n",
    "\n",
    "# Read recipient information from a CSV file\n",
    "recipients = pd.read_csv('C:/Users/HP/receiver.csv', skipinitialspace=True , encoding='utf-8')"
   ]
  },
  {
   "cell_type": "code",
   "execution_count": 39,
   "id": "0b5617e1",
   "metadata": {},
   "outputs": [
    {
     "name": "stdout",
     "output_type": "stream",
     "text": [
      "Index(['name', 'email'], dtype='object')\n"
     ]
    }
   ],
   "source": [
    "print(recipients.columns)"
   ]
  },
  {
   "cell_type": "code",
   "execution_count": 55,
   "id": "4bda6c8b",
   "metadata": {},
   "outputs": [
    {
     "name": "stdout",
     "output_type": "stream",
     "text": [
      "An error occurred: (535, b'5.7.8 Username and Password not accepted. Learn more at\\n5.7.8  https://support.google.com/mail/?p=BadCredentials c12-20020a5d4ccc000000b003143c6e09ccsm4384344wrt.16 - gsmtp')\n",
      "An error occurred: (535, b'5.7.8 Username and Password not accepted. Learn more at\\n5.7.8  https://support.google.com/mail/?p=BadCredentials 13-20020a05600c22cd00b003fa98908014sm7911020wmg.8 - gsmtp')\n"
     ]
    }
   ],
   "source": [
    "\n",
    "\n",
    "# Iterate through recipients\n",
    "for index, row in recipients.iterrows():\n",
    "    for index, row in data.iterrows():\n",
    "        Student = row['Student']\n",
    "        Class_Adviser = row['Class Adviser']\n",
    "        Level = row['Level']\n",
    "        Section = row['Section']\n",
    "        Writing = row['Writing']\n",
    "        Reading = row['Reading']\n",
    "        Speaking = row['Speaking']\n",
    "        Language = row['Language']\n",
    "        Numbering = row['Counting/Numbering']\n",
    "        Arts_Crafts = row['Arts_Craft']\n",
    "        Sharing = row['Playing/Sharing']\n",
    "        feedback = row['feedback']\n",
    "\n",
    "        # Render the template with data\n",
    "        context = {'Student': Student,'Class': Class_Adviser, 'Level': Level, 'Section': Section,'Writing': Writing,\n",
    "                   'Reading': Reading,'Speaking': Speaking,'Language': Language,'Counting':Numbering,\n",
    "                   'Arts': Arts_Crafts,'Sharing': Sharing,'feedback': feedback}\n",
    "        doc.render(context)\n",
    "    \n",
    "    # Save the populated report to a file\n",
    "    report_filename = f\"report_{Student}.docx\"\n",
    "    doc.save(report_filename)\n",
    "    \n",
    "    # Send email\n",
    "    from_email = 'damanifesta0@gmail.com'\n",
    "    to_email = row[1]\n",
    "    subject = 'Your Report'\n",
    "    body = f\"Dear {row[0]},\\n\\nPlease find your report attached.\\n\\nBest regards,\\nYour Organization\"\n",
    "    \n",
    "    msg = MIMEMultipart()\n",
    "    msg['From'] = from_email\n",
    "    msg['To'] = to_email\n",
    "    msg['Subject'] = subject\n",
    "\n",
    "    msg.attach(MIMEText(body, 'plain'))\n",
    "    \n",
    "    # Attach the report file to the email\n",
    "    report_filename = f\"report_{Student}.docx\"  # Adjust file name as needed    #f\"report_{row['name']}.docx\"\n",
    "    with open(report_filename, \"rb\") as f:\n",
    "        attach = MIMEApplication(f.read(), _subtype=\"docx\")\n",
    "        attach.add_header('Content-Disposition', f'attachment; filename= {report_filename}')\n",
    "        msg.attach(attach)\n",
    "        \n",
    "        \n",
    "    # Connect to an SMTP server and send the email\n",
    "    try:              \n",
    "        server = smtplib.SMTP('smtp.gmail.com', 587)\n",
    "        server.starttls()\n",
    "        server.login(from_email, 'KING178.')\n",
    "        server.sendmail(from_email, to_email, msg.as_string())\n",
    "        server.quit()\n",
    "\n",
    "        print(f\"Email sent to {to_email}\")\n",
    "    except Exception as e:\n",
    "        print(\"An error occurred:\", e)\n"
   ]
  },
  {
   "cell_type": "code",
   "execution_count": null,
   "id": "637df5a3",
   "metadata": {},
   "outputs": [],
   "source": [
    "import PyPDF2\n",
    "\n",
    "def extract_text_from_pdf(pdf_file):\n",
    "    text = \"\"\n",
    "    with open(pdf_file, \"rb\") as pdf:\n",
    "        pdf_reader = PyPDF2.PdfFileReader(pdf)\n",
    "        for page_num in range(pdf_reader.numPages):\n",
    "            page = pdf_reader.getPage(page_num)\n",
    "            text += page.extractText()\n",
    "    return text\n",
    "\n",
    "# In your Django view\n",
    "def upload_pdf(request):\n",
    "    if request.method == \"POST\" and request.FILES.get(\"pdf_file\"):\n",
    "        pdf_file = request.FILES[\"pdf_file\"]\n",
    "        extracted_text = extract_text_from_pdf(pdf_file)\n",
    "        # Store the extracted text in your database or use it for chatbot interactions\n",
    "        # ...\n",
    "        return HttpResponse(\"PDF uploaded and text extracted.\")\n",
    "    return render(request, \"upload_pdf.html\")\n"
   ]
  },
  {
   "cell_type": "code",
   "execution_count": null,
   "id": "1602409b",
   "metadata": {},
   "outputs": [],
   "source": []
  }
 ],
 "metadata": {
  "kernelspec": {
   "display_name": "Python 3 (ipykernel)",
   "language": "python",
   "name": "python3"
  },
  "language_info": {
   "codemirror_mode": {
    "name": "ipython",
    "version": 3
   },
   "file_extension": ".py",
   "mimetype": "text/x-python",
   "name": "python",
   "nbconvert_exporter": "python",
   "pygments_lexer": "ipython3",
   "version": "3.9.12"
  }
 },
 "nbformat": 4,
 "nbformat_minor": 5
}
